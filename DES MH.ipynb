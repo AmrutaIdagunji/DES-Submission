{
 "cells": [
  {
   "cell_type": "markdown",
   "id": "1f35a9fc",
   "metadata": {},
   "source": [
    "# Import Libraries"
   ]
  },
  {
   "cell_type": "code",
   "execution_count": 1,
   "id": "4bbb775d",
   "metadata": {},
   "outputs": [],
   "source": [
    "import pandas as pd\n",
    "import numpy as np\n"
   ]
  },
  {
   "cell_type": "code",
   "execution_count": 2,
   "id": "2296fad7",
   "metadata": {},
   "outputs": [],
   "source": [
    "df = pd.read_csv(\"participants_dataset_DES.csv\")"
   ]
  },
  {
   "cell_type": "code",
   "execution_count": 3,
   "id": "95aee81a",
   "metadata": {},
   "outputs": [
    {
     "data": {
      "text/html": [
       "<div>\n",
       "<style scoped>\n",
       "    .dataframe tbody tr th:only-of-type {\n",
       "        vertical-align: middle;\n",
       "    }\n",
       "\n",
       "    .dataframe tbody tr th {\n",
       "        vertical-align: top;\n",
       "    }\n",
       "\n",
       "    .dataframe thead th {\n",
       "        text-align: right;\n",
       "    }\n",
       "</style>\n",
       "<table border=\"1\" class=\"dataframe\">\n",
       "  <thead>\n",
       "    <tr style=\"text-align: right;\">\n",
       "      <th></th>\n",
       "      <th>AWND</th>\n",
       "      <th>TMAX</th>\n",
       "    </tr>\n",
       "  </thead>\n",
       "  <tbody>\n",
       "    <tr>\n",
       "      <th>count</th>\n",
       "      <td>160000.000000</td>\n",
       "      <td>160000.000000</td>\n",
       "    </tr>\n",
       "    <tr>\n",
       "      <th>mean</th>\n",
       "      <td>8.561424</td>\n",
       "      <td>51.072050</td>\n",
       "    </tr>\n",
       "    <tr>\n",
       "      <th>std</th>\n",
       "      <td>4.017869</td>\n",
       "      <td>17.968801</td>\n",
       "    </tr>\n",
       "    <tr>\n",
       "      <th>min</th>\n",
       "      <td>0.890000</td>\n",
       "      <td>1.000000</td>\n",
       "    </tr>\n",
       "    <tr>\n",
       "      <th>25%</th>\n",
       "      <td>5.190000</td>\n",
       "      <td>37.000000</td>\n",
       "    </tr>\n",
       "    <tr>\n",
       "      <th>50%</th>\n",
       "      <td>7.670000</td>\n",
       "      <td>51.000000</td>\n",
       "    </tr>\n",
       "    <tr>\n",
       "      <th>75%</th>\n",
       "      <td>11.210000</td>\n",
       "      <td>63.000000</td>\n",
       "    </tr>\n",
       "    <tr>\n",
       "      <th>max</th>\n",
       "      <td>26.530000</td>\n",
       "      <td>85.000000</td>\n",
       "    </tr>\n",
       "  </tbody>\n",
       "</table>\n",
       "</div>"
      ],
      "text/plain": [
       "                AWND           TMAX\n",
       "count  160000.000000  160000.000000\n",
       "mean        8.561424      51.072050\n",
       "std         4.017869      17.968801\n",
       "min         0.890000       1.000000\n",
       "25%         5.190000      37.000000\n",
       "50%         7.670000      51.000000\n",
       "75%        11.210000      63.000000\n",
       "max        26.530000      85.000000"
      ]
     },
     "execution_count": 3,
     "metadata": {},
     "output_type": "execute_result"
    }
   ],
   "source": [
    "df[[\"AWND\", \"TMAX\"]].describe()"
   ]
  },
  {
   "cell_type": "markdown",
   "id": "3227a972",
   "metadata": {},
   "source": [
    "### DATE: create the date from year, month and day of the week"
   ]
  },
  {
   "cell_type": "code",
   "execution_count": 4,
   "id": "9993efef",
   "metadata": {},
   "outputs": [],
   "source": [
    "df[\"YEAR\"].fillna(df[\"YEAR\"].max(), inplace = True)\n",
    "df[\"MONTH\"].fillna(df[\"MONTH\"].max(), inplace = True)\n",
    "\n",
    "df['DATE'] = df['DAY_OF_WEEK'].astype(str) + \"/\" + df['MONTH'].astype(int).astype(str) + \"/\" + df['YEAR'].astype(int).astype(str)\n"
   ]
  },
  {
   "cell_type": "markdown",
   "id": "1b403a35",
   "metadata": {},
   "source": [
    "### LOW: lower value of DEP_TIME_BLK | HIGH: higher value of DEP_TIME_BLK"
   ]
  },
  {
   "cell_type": "code",
   "execution_count": 5,
   "id": "795c802a",
   "metadata": {},
   "outputs": [],
   "source": [
    "df[\"LOW\"] = df[\"DEP_TIME_BLK\"].str.slice(0,4)\n",
    "df[\"HIGH\"] = df[\"DEP_TIME_BLK\"].str.slice(5,9)\n"
   ]
  },
  {
   "cell_type": "markdown",
   "id": "c4f312da",
   "metadata": {},
   "source": [
    "### TIMESTAMP: create a timestamp with date and lower value of DEP_TIME_BLK"
   ]
  },
  {
   "cell_type": "code",
   "execution_count": 6,
   "id": "7ff807b8",
   "metadata": {},
   "outputs": [],
   "source": [
    "df[\"TIMESTAMP\"] = df[\"DATE\"].astype(str) + \" \" + df[\"LOW\"].str.slice(0, 2) + \":\" + df[\"LOW\"].str.slice(2,4) \n"
   ]
  },
  {
   "cell_type": "markdown",
   "id": "9dfd65db",
   "metadata": {},
   "source": [
    "### WIND_CHILL:  the perceived temperature due to cooling effect of wind blowing"
   ]
  },
  {
   "cell_type": "markdown",
   "id": "0a4658c7",
   "metadata": {},
   "source": [
    "Formula : if you use Fahrenheit and miles per hour:\n",
    "\n",
    "T_wc = 35.74 + 0.6215 * T_a - 35.75 * v^0.16 + 0.4275 * T_a * v^0.16\n",
    "\n",
    "T_wc : wind chill\n",
    "\n",
    "T_a : temperature\n",
    "\n",
    "v : wind speed\n",
    "    "
   ]
  },
  {
   "cell_type": "code",
   "execution_count": 7,
   "id": "71d2cbde",
   "metadata": {},
   "outputs": [],
   "source": [
    "df[\"AWND\"].fillna(df[\"AWND\"].mean(), inplace=True)\n",
    "df[\"TMAX\"].fillna(df[\"TMAX\"].mean(), inplace=True)"
   ]
  },
  {
   "cell_type": "code",
   "execution_count": 8,
   "id": "24029951",
   "metadata": {},
   "outputs": [],
   "source": [
    "df[\"WIND_CHILL\"] = 35.74 + (0.6215 * df[\"TMAX\"]) - (35.75 * (df[\"AWND\"].pow(0.16))) + (0.4275 * df[\"TMAX\"] * (df[\"AWND\"].pow(0.16)))\n"
   ]
  },
  {
   "cell_type": "markdown",
   "id": "50320908",
   "metadata": {},
   "source": [
    "### PRCP_SNOW_RATIO: ratio of precipitation and snow"
   ]
  },
  {
   "cell_type": "code",
   "execution_count": 9,
   "id": "a1c49e09",
   "metadata": {},
   "outputs": [],
   "source": [
    "df[\"PRCP\"].fillna(df[\"PRCP\"].mean(), inplace=True)\n",
    "df[\"SNOW\"].fillna(df[\"SNOW\"].mean(), inplace=True)\n",
    "df.loc[df[\"SNOW\"] == 0, \"SNOW\"] = 1\n"
   ]
  },
  {
   "cell_type": "code",
   "execution_count": 10,
   "id": "800c597a",
   "metadata": {},
   "outputs": [],
   "source": [
    "df[\"PRCP_SNOW_RATIO\"] = df[\"PRCP\"] / df[\"SNOW\"]\n"
   ]
  },
  {
   "cell_type": "markdown",
   "id": "cd0bae03",
   "metadata": {},
   "source": [
    "### PLANE_AGE_AIRLINE_AIRPORT_FLIGHTS_MONTH_RATIO : ratio of plane age and airline and airport flights months."
   ]
  },
  {
   "cell_type": "code",
   "execution_count": 11,
   "id": "7f1bc541",
   "metadata": {},
   "outputs": [],
   "source": [
    "df[\"AIRLINE_AIRPORT_FLIGHTS_MONTH\"].fillna( df[\"AIRLINE_AIRPORT_FLIGHTS_MONTH\"].mean() , inplace=True)\n",
    "df[\"PLANE_AGE\"].fillna( df[\"PLANE_AGE\"].median(), inplace = True)\n",
    "df.loc[df[\"AIRLINE_AIRPORT_FLIGHTS_MONTH\"] == 0, \"AIRLINE_AIRPORT_FLIGHTS_MONTH\"] = 1"
   ]
  },
  {
   "cell_type": "code",
   "execution_count": 12,
   "id": "12ac4880",
   "metadata": {},
   "outputs": [],
   "source": [
    "df[\"PLANE_AGE_AIRLINE_AIRPORT_FLIGHTS_MONTH_RATIO\"] = df[\"PLANE_AGE\"] / df[\"AIRLINE_AIRPORT_FLIGHTS_MONTH\"]\n"
   ]
  },
  {
   "cell_type": "markdown",
   "id": "218411c5",
   "metadata": {},
   "source": [
    "### SEAT_DISTRIBUTION: Ratio of seats and in  concurrent flight CONCURRENT_FLIGHTS"
   ]
  },
  {
   "cell_type": "code",
   "execution_count": 13,
   "id": "016191bd",
   "metadata": {},
   "outputs": [],
   "source": [
    "df[\"CONCURRENT_FLIGHTS\"].fillna(df[\"CONCURRENT_FLIGHTS\"].mean(), inplace = True)\n",
    "df[\"NUMBER_OF_SEATS\"].fillna(df[\"NUMBER_OF_SEATS\"].mean(), inplace = True)\n",
    "df.loc[df[\"NUMBER_OF_SEATS\"] == 0, \"NUMBER_OF_SEATS\"] = 1"
   ]
  },
  {
   "cell_type": "code",
   "execution_count": 14,
   "id": "1a5ac821",
   "metadata": {},
   "outputs": [],
   "source": [
    "df[\"SEAT_DISTRIBUTION\"] = df['CONCURRENT_FLIGHTS']/ df['NUMBER_OF_SEATS']"
   ]
  },
  {
   "cell_type": "markdown",
   "id": "901876e9",
   "metadata": {},
   "source": [
    "### SEAT_DISTRIBUTION_NORMALISED: normalized values of ratio of seats and in  concurrent flight"
   ]
  },
  {
   "cell_type": "code",
   "execution_count": 15,
   "id": "bb68e9c9",
   "metadata": {},
   "outputs": [],
   "source": [
    "df[\"SEAT_DISTRIBUTION_NORMALISED\"]=(df[\"SEAT_DISTRIBUTION\"] - df[\"SEAT_DISTRIBUTION\"].min())/(df[\"SEAT_DISTRIBUTION\"].max() - df[\"SEAT_DISTRIBUTION\"].min())\n"
   ]
  },
  {
   "cell_type": "code",
   "execution_count": 16,
   "id": "550be4c7",
   "metadata": {},
   "outputs": [],
   "source": [
    "df[['DATE', 'LOW', 'HIGH', 'TIMESTAMP', 'WIND_CHILL', 'PRCP_SNOW_RATIO', 'PLANE_AGE_AIRLINE_AIRPORT_FLIGHTS_MONTH_RATIO', 'SEAT_DISTRIBUTION', 'SEAT_DISTRIBUTION_NORMALISED']].to_csv(\"submission.csv\", index = False)\n"
   ]
  },
  {
   "cell_type": "markdown",
   "id": "bf4628ab",
   "metadata": {},
   "source": [
    "### DONE!"
   ]
  }
 ],
 "metadata": {
  "kernelspec": {
   "display_name": "Python 3 (ipykernel)",
   "language": "python",
   "name": "python3"
  },
  "language_info": {
   "codemirror_mode": {
    "name": "ipython",
    "version": 3
   },
   "file_extension": ".py",
   "mimetype": "text/x-python",
   "name": "python",
   "nbconvert_exporter": "python",
   "pygments_lexer": "ipython3",
   "version": "3.8.8"
  }
 },
 "nbformat": 4,
 "nbformat_minor": 5
}
